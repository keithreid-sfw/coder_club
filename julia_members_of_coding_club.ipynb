{
 "cells": [
  {
   "cell_type": "code",
   "execution_count": 76,
   "metadata": {},
   "outputs": [
    {
     "name": "stdout",
     "output_type": "stream",
     "text": [
      "names\n",
      "Any[[\"Aulia\"], [\"Bulia\"], [\"Culia\"], [\"Dulia\"], [\"Eulia\"], [\"Fulia\"], [\"Gulia\"], [\"Hulia\"], [\"Iulia\"], [\"Julia\"], [\"Kulia\"], [\"Lulia\"], [\"Mulia\"], [\"Nulia\"], [\"Oulia\"], [\"Pulia\"], [\"Qulia\"], [\"Rulia\"], [\"Sulia\"], [\"Tulia\"]]\n"
     ]
    }
   ],
   "source": [
    "function make_twenty_names()\n",
    "    letter_integers = 65:84\n",
    "    letters = convert.(Char, letter_integers)\n",
    "    names = []\n",
    "    for i in letters\n",
    "        name = [i*\"ulia\"]\n",
    "        push!(names, name)\n",
    "    end\n",
    "    println(\"names\")\n",
    "    println(names)\n",
    "end\n",
    "\n",
    "make_twenty_names()"
   ]
  },
  {
   "cell_type": "code",
   "execution_count": null,
   "metadata": {},
   "outputs": [],
   "source": []
  }
 ],
 "metadata": {
  "kernelspec": {
   "display_name": "Julia 1.2.0",
   "language": "julia",
   "name": "julia-1.2"
  },
  "language_info": {
   "file_extension": ".jl",
   "mimetype": "application/julia",
   "name": "julia",
   "version": "1.2.0"
  }
 },
 "nbformat": 4,
 "nbformat_minor": 2
}
