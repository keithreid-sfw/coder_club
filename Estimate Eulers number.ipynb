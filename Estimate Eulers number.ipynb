{
 "cells": [
  {
   "cell_type": "code",
   "execution_count": 1,
   "metadata": {},
   "outputs": [
    {
     "name": "stdout",
     "output_type": "stream",
     "text": [
      "Estimated Eulers:\t 2.71701\n"
     ]
    },
    {
     "data": {
      "image/png": "[encoded data removed]",
      "text/plain": [
       "<Figure size 432x288 with 1 Axes>"
      ]
     },
     "metadata": {
      "needs_background": "light"
     },
     "output_type": "display_data"
    }
   ],
   "source": [
    "\"\"\"\n",
    "Kata: estimate Euler's number\n",
    "\n",
    "Keith Reid aka q1ph\n",
    "coders club\n",
    "\n",
    "algorithm courtesy of K.G.Russell in American Statistician 1991\n",
    "due to Prof Boris Vladimirovich Gdeneko 1912-1995, \n",
    "in \"An Elementary Introduction to the Theory of Probability\" Exercise 22\n",
    "\"\"\"\n",
    "\n",
    "# Eulers numbers is 2.718281...\n",
    "\n",
    "import matplotlib.pyplot as plt\n",
    "import numpy as np\n",
    "\n",
    "def get_repeats():\n",
    "    return 100000\n",
    "\n",
    "if __name__==\"__main__\":\n",
    "    record_of_throws    = []\n",
    "    repeats = get_repeats()\n",
    "    for i in range(repeats):\n",
    "        counter         = 0\n",
    "        these_throws    = 0\n",
    "        while counter < 1:\n",
    "            new_random      = np.random.rand()\n",
    "            counter         = counter + new_random\n",
    "            these_throws    += 1\n",
    "        record_of_throws.append(these_throws)\n",
    "    \n",
    "    estimated_eulers    = np.mean(record_of_throws)\n",
    "    print(\"Estimated Eulers:\\t\", estimated_eulers)\n",
    "    \n",
    "    successive_averages = []\n",
    "    for i in range(len(record_of_throws)):\n",
    "        field_of_mean       = record_of_throws[0:i+1]\n",
    "        average_so_far      = np.mean(field_of_mean)\n",
    "        successive_averages.append(average_so_far)\n",
    "    \n",
    "    plt.plot(successive_averages)\n"
   ]
  }
 ],
 "metadata": {
  "kernelspec": {
   "display_name": "Python 3",
   "language": "python",
   "name": "python3"
  },
  "language_info": {
   "codemirror_mode": {
    "name": "ipython",
    "version": 3
   },
   "file_extension": ".py",
   "mimetype": "text/x-python",
   "name": "python",
   "nbconvert_exporter": "python",
   "pygments_lexer": "ipython3",
   "version": "3.7.6"
  }
 },
 "nbformat": 4,
 "nbformat_minor": 4
}
